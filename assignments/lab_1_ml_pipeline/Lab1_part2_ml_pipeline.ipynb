{
 "cells": [
  {
   "cell_type": "markdown",
   "metadata": {
    "nbgrader": {
     "grade": false,
     "grade_id": "cell-86e0de040aac317a",
     "locked": true,
     "schema_version": 2,
     "solution": false
    }
   },
   "source": [
    "# Lab assignment №1, part 2\n",
    "\n",
    "This lab assignment consists of several parts. You are supposed to make some transformations, train some models, estimate the quality of the models and explain your results.\n",
    "\n",
    "Several comments:\n",
    "* Don't hesitate to ask questions, it's a good practice.\n",
    "* No private/public sharing, please. The copied assignments will be graded with 0 points.\n",
    "* Blocks of this lab will be graded separately."
   ]
  },
  {
   "cell_type": "markdown",
   "metadata": {},
   "source": [
    "__*This is the second part of the assignment. First and third parts are waiting for you in the same directory.*__"
   ]
  },
  {
   "cell_type": "markdown",
   "metadata": {
    "nbgrader": {
     "grade": false,
     "grade_id": "cell-512ba712fc0fc065",
     "locked": true,
     "schema_version": 2,
     "solution": false
    }
   },
   "source": [
    "## Part 2. Data preprocessing, model training and evaluation."
   ]
  },
  {
   "cell_type": "markdown",
   "metadata": {
    "nbgrader": {
     "grade": false,
     "grade_id": "cell-b656a4266174b009",
     "locked": true,
     "schema_version": 2,
     "solution": false
    }
   },
   "source": [
    "### 1. Reading the data\n",
    "Today we work with the [dataset](https://archive.ics.uci.edu/ml/datasets/Statlog+%28Vehicle+Silhouettes%29), describing different cars for multiclass ($k=4$) classification problem. The data is available below."
   ]
  },
  {
   "cell_type": "code",
   "execution_count": 1,
   "metadata": {},
   "outputs": [],
   "source": [
    "# If on colab, uncomment the following lines\n",
    "\n",
    "# ! wget https://raw.githubusercontent.com/girafe-ai/ml-course/22f_made/homeworks/lab01_ml_pipeline/car_data.csv"
   ]
  },
  {
   "cell_type": "code",
   "execution_count": 2,
   "metadata": {
    "nbgrader": {
     "grade": false,
     "grade_id": "cell-eebac6bfdf73d0bc",
     "locked": true,
     "schema_version": 2,
     "solution": false
    }
   },
   "outputs": [
    {
     "name": "stdout",
     "output_type": "stream",
     "text": [
      "(846, 19) (846,)\n",
      "(549, 19) (549,) (297, 19) (297,)\n"
     ]
    }
   ],
   "source": [
    "import pandas as pd\n",
    "import numpy as np\n",
    "from sklearn.model_selection import train_test_split\n",
    "\n",
    "dataset = pd.read_csv('car_data.csv', delimiter=',', header=None).values\n",
    "data = dataset[:, :-1].astype(int)\n",
    "target = dataset[:, -1]\n",
    "\n",
    "print(data.shape, target.shape)\n",
    "\n",
    "X_train, X_test, y_train, y_test = train_test_split(data, target, test_size=0.35)\n",
    "print(X_train.shape, y_train.shape, X_test.shape, y_test.shape)"
   ]
  },
  {
   "cell_type": "markdown",
   "metadata": {
    "nbgrader": {
     "grade": false,
     "grade_id": "cell-88b1a0f688568f2c",
     "locked": true,
     "schema_version": 2,
     "solution": false
    }
   },
   "source": [
    "To get some insights about the dataset, `pandas` might be used. The `train` part is transformed to `pd.DataFrame` below."
   ]
  },
  {
   "cell_type": "code",
   "execution_count": 3,
   "metadata": {},
   "outputs": [
    {
     "data": {
      "text/html": [
       "<div>\n",
       "<style scoped>\n",
       "    .dataframe tbody tr th:only-of-type {\n",
       "        vertical-align: middle;\n",
       "    }\n",
       "\n",
       "    .dataframe tbody tr th {\n",
       "        vertical-align: top;\n",
       "    }\n",
       "\n",
       "    .dataframe thead th {\n",
       "        text-align: right;\n",
       "    }\n",
       "</style>\n",
       "<table border=\"1\" class=\"dataframe\">\n",
       "  <thead>\n",
       "    <tr style=\"text-align: right;\">\n",
       "      <th></th>\n",
       "      <th>0</th>\n",
       "      <th>1</th>\n",
       "      <th>2</th>\n",
       "      <th>3</th>\n",
       "      <th>4</th>\n",
       "      <th>5</th>\n",
       "      <th>6</th>\n",
       "      <th>7</th>\n",
       "      <th>8</th>\n",
       "      <th>9</th>\n",
       "      <th>10</th>\n",
       "      <th>11</th>\n",
       "      <th>12</th>\n",
       "      <th>13</th>\n",
       "      <th>14</th>\n",
       "      <th>15</th>\n",
       "      <th>16</th>\n",
       "      <th>17</th>\n",
       "      <th>18</th>\n",
       "    </tr>\n",
       "  </thead>\n",
       "  <tbody>\n",
       "    <tr>\n",
       "      <th>0</th>\n",
       "      <td>293</td>\n",
       "      <td>93</td>\n",
       "      <td>36</td>\n",
       "      <td>63</td>\n",
       "      <td>139</td>\n",
       "      <td>57</td>\n",
       "      <td>8</td>\n",
       "      <td>132</td>\n",
       "      <td>50</td>\n",
       "      <td>18</td>\n",
       "      <td>136</td>\n",
       "      <td>158</td>\n",
       "      <td>260</td>\n",
       "      <td>121</td>\n",
       "      <td>67</td>\n",
       "      <td>3</td>\n",
       "      <td>27</td>\n",
       "      <td>193</td>\n",
       "      <td>201</td>\n",
       "    </tr>\n",
       "    <tr>\n",
       "      <th>1</th>\n",
       "      <td>459</td>\n",
       "      <td>98</td>\n",
       "      <td>42</td>\n",
       "      <td>90</td>\n",
       "      <td>192</td>\n",
       "      <td>61</td>\n",
       "      <td>9</td>\n",
       "      <td>178</td>\n",
       "      <td>37</td>\n",
       "      <td>21</td>\n",
       "      <td>144</td>\n",
       "      <td>189</td>\n",
       "      <td>480</td>\n",
       "      <td>138</td>\n",
       "      <td>61</td>\n",
       "      <td>3</td>\n",
       "      <td>8</td>\n",
       "      <td>199</td>\n",
       "      <td>208</td>\n",
       "    </tr>\n",
       "    <tr>\n",
       "      <th>2</th>\n",
       "      <td>427</td>\n",
       "      <td>86</td>\n",
       "      <td>38</td>\n",
       "      <td>89</td>\n",
       "      <td>176</td>\n",
       "      <td>59</td>\n",
       "      <td>9</td>\n",
       "      <td>169</td>\n",
       "      <td>39</td>\n",
       "      <td>20</td>\n",
       "      <td>132</td>\n",
       "      <td>190</td>\n",
       "      <td>428</td>\n",
       "      <td>148</td>\n",
       "      <td>67</td>\n",
       "      <td>7</td>\n",
       "      <td>33</td>\n",
       "      <td>193</td>\n",
       "      <td>202</td>\n",
       "    </tr>\n",
       "    <tr>\n",
       "      <th>3</th>\n",
       "      <td>681</td>\n",
       "      <td>96</td>\n",
       "      <td>46</td>\n",
       "      <td>70</td>\n",
       "      <td>194</td>\n",
       "      <td>70</td>\n",
       "      <td>6</td>\n",
       "      <td>167</td>\n",
       "      <td>39</td>\n",
       "      <td>20</td>\n",
       "      <td>148</td>\n",
       "      <td>183</td>\n",
       "      <td>427</td>\n",
       "      <td>171</td>\n",
       "      <td>69</td>\n",
       "      <td>17</td>\n",
       "      <td>10</td>\n",
       "      <td>200</td>\n",
       "      <td>203</td>\n",
       "    </tr>\n",
       "    <tr>\n",
       "      <th>4</th>\n",
       "      <td>786</td>\n",
       "      <td>107</td>\n",
       "      <td>55</td>\n",
       "      <td>103</td>\n",
       "      <td>213</td>\n",
       "      <td>68</td>\n",
       "      <td>11</td>\n",
       "      <td>219</td>\n",
       "      <td>30</td>\n",
       "      <td>25</td>\n",
       "      <td>172</td>\n",
       "      <td>221</td>\n",
       "      <td>709</td>\n",
       "      <td>216</td>\n",
       "      <td>70</td>\n",
       "      <td>10</td>\n",
       "      <td>7</td>\n",
       "      <td>187</td>\n",
       "      <td>197</td>\n",
       "    </tr>\n",
       "    <tr>\n",
       "      <th>5</th>\n",
       "      <td>712</td>\n",
       "      <td>105</td>\n",
       "      <td>45</td>\n",
       "      <td>100</td>\n",
       "      <td>195</td>\n",
       "      <td>61</td>\n",
       "      <td>10</td>\n",
       "      <td>198</td>\n",
       "      <td>33</td>\n",
       "      <td>23</td>\n",
       "      <td>149</td>\n",
       "      <td>214</td>\n",
       "      <td>586</td>\n",
       "      <td>186</td>\n",
       "      <td>67</td>\n",
       "      <td>8</td>\n",
       "      <td>5</td>\n",
       "      <td>192</td>\n",
       "      <td>200</td>\n",
       "    </tr>\n",
       "    <tr>\n",
       "      <th>6</th>\n",
       "      <td>562</td>\n",
       "      <td>113</td>\n",
       "      <td>53</td>\n",
       "      <td>93</td>\n",
       "      <td>197</td>\n",
       "      <td>62</td>\n",
       "      <td>11</td>\n",
       "      <td>216</td>\n",
       "      <td>31</td>\n",
       "      <td>24</td>\n",
       "      <td>165</td>\n",
       "      <td>221</td>\n",
       "      <td>688</td>\n",
       "      <td>196</td>\n",
       "      <td>72</td>\n",
       "      <td>6</td>\n",
       "      <td>25</td>\n",
       "      <td>188</td>\n",
       "      <td>199</td>\n",
       "    </tr>\n",
       "    <tr>\n",
       "      <th>7</th>\n",
       "      <td>639</td>\n",
       "      <td>108</td>\n",
       "      <td>55</td>\n",
       "      <td>105</td>\n",
       "      <td>230</td>\n",
       "      <td>68</td>\n",
       "      <td>11</td>\n",
       "      <td>218</td>\n",
       "      <td>30</td>\n",
       "      <td>24</td>\n",
       "      <td>171</td>\n",
       "      <td>228</td>\n",
       "      <td>709</td>\n",
       "      <td>210</td>\n",
       "      <td>69</td>\n",
       "      <td>14</td>\n",
       "      <td>4</td>\n",
       "      <td>190</td>\n",
       "      <td>197</td>\n",
       "    </tr>\n",
       "    <tr>\n",
       "      <th>8</th>\n",
       "      <td>117</td>\n",
       "      <td>109</td>\n",
       "      <td>53</td>\n",
       "      <td>109</td>\n",
       "      <td>221</td>\n",
       "      <td>69</td>\n",
       "      <td>12</td>\n",
       "      <td>221</td>\n",
       "      <td>31</td>\n",
       "      <td>25</td>\n",
       "      <td>169</td>\n",
       "      <td>226</td>\n",
       "      <td>712</td>\n",
       "      <td>212</td>\n",
       "      <td>72</td>\n",
       "      <td>13</td>\n",
       "      <td>28</td>\n",
       "      <td>188</td>\n",
       "      <td>201</td>\n",
       "    </tr>\n",
       "    <tr>\n",
       "      <th>9</th>\n",
       "      <td>680</td>\n",
       "      <td>95</td>\n",
       "      <td>46</td>\n",
       "      <td>76</td>\n",
       "      <td>162</td>\n",
       "      <td>66</td>\n",
       "      <td>11</td>\n",
       "      <td>162</td>\n",
       "      <td>42</td>\n",
       "      <td>20</td>\n",
       "      <td>155</td>\n",
       "      <td>175</td>\n",
       "      <td>381</td>\n",
       "      <td>172</td>\n",
       "      <td>74</td>\n",
       "      <td>8</td>\n",
       "      <td>4</td>\n",
       "      <td>184</td>\n",
       "      <td>193</td>\n",
       "    </tr>\n",
       "    <tr>\n",
       "      <th>10</th>\n",
       "      <td>243</td>\n",
       "      <td>101</td>\n",
       "      <td>55</td>\n",
       "      <td>108</td>\n",
       "      <td>228</td>\n",
       "      <td>69</td>\n",
       "      <td>12</td>\n",
       "      <td>215</td>\n",
       "      <td>31</td>\n",
       "      <td>24</td>\n",
       "      <td>168</td>\n",
       "      <td>229</td>\n",
       "      <td>684</td>\n",
       "      <td>214</td>\n",
       "      <td>71</td>\n",
       "      <td>2</td>\n",
       "      <td>16</td>\n",
       "      <td>188</td>\n",
       "      <td>199</td>\n",
       "    </tr>\n",
       "    <tr>\n",
       "      <th>11</th>\n",
       "      <td>594</td>\n",
       "      <td>83</td>\n",
       "      <td>40</td>\n",
       "      <td>59</td>\n",
       "      <td>116</td>\n",
       "      <td>53</td>\n",
       "      <td>7</td>\n",
       "      <td>132</td>\n",
       "      <td>52</td>\n",
       "      <td>18</td>\n",
       "      <td>137</td>\n",
       "      <td>145</td>\n",
       "      <td>250</td>\n",
       "      <td>157</td>\n",
       "      <td>84</td>\n",
       "      <td>12</td>\n",
       "      <td>6</td>\n",
       "      <td>177</td>\n",
       "      <td>183</td>\n",
       "    </tr>\n",
       "    <tr>\n",
       "      <th>12</th>\n",
       "      <td>687</td>\n",
       "      <td>106</td>\n",
       "      <td>57</td>\n",
       "      <td>107</td>\n",
       "      <td>235</td>\n",
       "      <td>67</td>\n",
       "      <td>6</td>\n",
       "      <td>262</td>\n",
       "      <td>26</td>\n",
       "      <td>28</td>\n",
       "      <td>171</td>\n",
       "      <td>285</td>\n",
       "      <td>987</td>\n",
       "      <td>260</td>\n",
       "      <td>86</td>\n",
       "      <td>9</td>\n",
       "      <td>31</td>\n",
       "      <td>180</td>\n",
       "      <td>184</td>\n",
       "    </tr>\n",
       "    <tr>\n",
       "      <th>13</th>\n",
       "      <td>695</td>\n",
       "      <td>92</td>\n",
       "      <td>41</td>\n",
       "      <td>66</td>\n",
       "      <td>125</td>\n",
       "      <td>52</td>\n",
       "      <td>7</td>\n",
       "      <td>139</td>\n",
       "      <td>50</td>\n",
       "      <td>18</td>\n",
       "      <td>143</td>\n",
       "      <td>160</td>\n",
       "      <td>275</td>\n",
       "      <td>161</td>\n",
       "      <td>81</td>\n",
       "      <td>7</td>\n",
       "      <td>19</td>\n",
       "      <td>182</td>\n",
       "      <td>184</td>\n",
       "    </tr>\n",
       "    <tr>\n",
       "      <th>14</th>\n",
       "      <td>796</td>\n",
       "      <td>85</td>\n",
       "      <td>38</td>\n",
       "      <td>63</td>\n",
       "      <td>130</td>\n",
       "      <td>55</td>\n",
       "      <td>7</td>\n",
       "      <td>122</td>\n",
       "      <td>55</td>\n",
       "      <td>17</td>\n",
       "      <td>130</td>\n",
       "      <td>137</td>\n",
       "      <td>219</td>\n",
       "      <td>144</td>\n",
       "      <td>64</td>\n",
       "      <td>20</td>\n",
       "      <td>8</td>\n",
       "      <td>195</td>\n",
       "      <td>201</td>\n",
       "    </tr>\n",
       "  </tbody>\n",
       "</table>\n",
       "</div>"
      ],
      "text/plain": [
       "      0    1   2    3    4   5   6    7   8   9   10   11   12   13  14  15  \\\n",
       "0   293   93  36   63  139  57   8  132  50  18  136  158  260  121  67   3   \n",
       "1   459   98  42   90  192  61   9  178  37  21  144  189  480  138  61   3   \n",
       "2   427   86  38   89  176  59   9  169  39  20  132  190  428  148  67   7   \n",
       "3   681   96  46   70  194  70   6  167  39  20  148  183  427  171  69  17   \n",
       "4   786  107  55  103  213  68  11  219  30  25  172  221  709  216  70  10   \n",
       "5   712  105  45  100  195  61  10  198  33  23  149  214  586  186  67   8   \n",
       "6   562  113  53   93  197  62  11  216  31  24  165  221  688  196  72   6   \n",
       "7   639  108  55  105  230  68  11  218  30  24  171  228  709  210  69  14   \n",
       "8   117  109  53  109  221  69  12  221  31  25  169  226  712  212  72  13   \n",
       "9   680   95  46   76  162  66  11  162  42  20  155  175  381  172  74   8   \n",
       "10  243  101  55  108  228  69  12  215  31  24  168  229  684  214  71   2   \n",
       "11  594   83  40   59  116  53   7  132  52  18  137  145  250  157  84  12   \n",
       "12  687  106  57  107  235  67   6  262  26  28  171  285  987  260  86   9   \n",
       "13  695   92  41   66  125  52   7  139  50  18  143  160  275  161  81   7   \n",
       "14  796   85  38   63  130  55   7  122  55  17  130  137  219  144  64  20   \n",
       "\n",
       "    16   17   18  \n",
       "0   27  193  201  \n",
       "1    8  199  208  \n",
       "2   33  193  202  \n",
       "3   10  200  203  \n",
       "4    7  187  197  \n",
       "5    5  192  200  \n",
       "6   25  188  199  \n",
       "7    4  190  197  \n",
       "8   28  188  201  \n",
       "9    4  184  193  \n",
       "10  16  188  199  \n",
       "11   6  177  183  \n",
       "12  31  180  184  \n",
       "13  19  182  184  \n",
       "14   8  195  201  "
      ]
     },
     "execution_count": 3,
     "metadata": {},
     "output_type": "execute_result"
    }
   ],
   "source": [
    "X_train_pd = pd.DataFrame(X_train)\n",
    "\n",
    "# First 15 rows of our dataset.\n",
    "X_train_pd.head(15)"
   ]
  },
  {
   "cell_type": "markdown",
   "metadata": {
    "nbgrader": {
     "grade": false,
     "grade_id": "cell-98e7d91d77d65fcf",
     "locked": true,
     "schema_version": 2,
     "solution": false
    }
   },
   "source": [
    "Methods `describe` and `info` deliver some useful information."
   ]
  },
  {
   "cell_type": "code",
   "execution_count": 4,
   "metadata": {},
   "outputs": [
    {
     "data": {
      "text/html": [
       "<div>\n",
       "<style scoped>\n",
       "    .dataframe tbody tr th:only-of-type {\n",
       "        vertical-align: middle;\n",
       "    }\n",
       "\n",
       "    .dataframe tbody tr th {\n",
       "        vertical-align: top;\n",
       "    }\n",
       "\n",
       "    .dataframe thead th {\n",
       "        text-align: right;\n",
       "    }\n",
       "</style>\n",
       "<table border=\"1\" class=\"dataframe\">\n",
       "  <thead>\n",
       "    <tr style=\"text-align: right;\">\n",
       "      <th></th>\n",
       "      <th>0</th>\n",
       "      <th>1</th>\n",
       "      <th>2</th>\n",
       "      <th>3</th>\n",
       "      <th>4</th>\n",
       "      <th>5</th>\n",
       "      <th>6</th>\n",
       "      <th>7</th>\n",
       "      <th>8</th>\n",
       "      <th>9</th>\n",
       "      <th>10</th>\n",
       "      <th>11</th>\n",
       "      <th>12</th>\n",
       "      <th>13</th>\n",
       "      <th>14</th>\n",
       "      <th>15</th>\n",
       "      <th>16</th>\n",
       "      <th>17</th>\n",
       "      <th>18</th>\n",
       "    </tr>\n",
       "  </thead>\n",
       "  <tbody>\n",
       "    <tr>\n",
       "      <th>count</th>\n",
       "      <td>549.000000</td>\n",
       "      <td>549.000000</td>\n",
       "      <td>549.000000</td>\n",
       "      <td>549.000000</td>\n",
       "      <td>549.000000</td>\n",
       "      <td>549.000000</td>\n",
       "      <td>549.000000</td>\n",
       "      <td>549.000000</td>\n",
       "      <td>549.000000</td>\n",
       "      <td>549.000000</td>\n",
       "      <td>549.000000</td>\n",
       "      <td>549.000000</td>\n",
       "      <td>549.000000</td>\n",
       "      <td>549.000000</td>\n",
       "      <td>549.000000</td>\n",
       "      <td>549.000000</td>\n",
       "      <td>549.000000</td>\n",
       "      <td>549.000000</td>\n",
       "      <td>549.000000</td>\n",
       "    </tr>\n",
       "    <tr>\n",
       "      <th>mean</th>\n",
       "      <td>432.114754</td>\n",
       "      <td>93.839709</td>\n",
       "      <td>44.765027</td>\n",
       "      <td>81.872495</td>\n",
       "      <td>169.358834</td>\n",
       "      <td>61.817851</td>\n",
       "      <td>8.433515</td>\n",
       "      <td>168.934426</td>\n",
       "      <td>40.865209</td>\n",
       "      <td>20.588342</td>\n",
       "      <td>147.571949</td>\n",
       "      <td>188.744991</td>\n",
       "      <td>440.672131</td>\n",
       "      <td>174.539162</td>\n",
       "      <td>72.449909</td>\n",
       "      <td>6.557377</td>\n",
       "      <td>12.568306</td>\n",
       "      <td>189.030965</td>\n",
       "      <td>195.491803</td>\n",
       "    </tr>\n",
       "    <tr>\n",
       "      <th>std</th>\n",
       "      <td>240.666501</td>\n",
       "      <td>8.335779</td>\n",
       "      <td>6.190806</td>\n",
       "      <td>15.647408</td>\n",
       "      <td>32.834864</td>\n",
       "      <td>7.971412</td>\n",
       "      <td>4.491440</td>\n",
       "      <td>33.163102</td>\n",
       "      <td>7.790602</td>\n",
       "      <td>2.588917</td>\n",
       "      <td>14.451808</td>\n",
       "      <td>31.241299</td>\n",
       "      <td>176.701194</td>\n",
       "      <td>32.845869</td>\n",
       "      <td>7.308114</td>\n",
       "      <td>5.006099</td>\n",
       "      <td>9.010809</td>\n",
       "      <td>6.200788</td>\n",
       "      <td>7.435024</td>\n",
       "    </tr>\n",
       "    <tr>\n",
       "      <th>min</th>\n",
       "      <td>0.000000</td>\n",
       "      <td>77.000000</td>\n",
       "      <td>33.000000</td>\n",
       "      <td>40.000000</td>\n",
       "      <td>104.000000</td>\n",
       "      <td>47.000000</td>\n",
       "      <td>3.000000</td>\n",
       "      <td>112.000000</td>\n",
       "      <td>26.000000</td>\n",
       "      <td>17.000000</td>\n",
       "      <td>118.000000</td>\n",
       "      <td>130.000000</td>\n",
       "      <td>184.000000</td>\n",
       "      <td>109.000000</td>\n",
       "      <td>60.000000</td>\n",
       "      <td>0.000000</td>\n",
       "      <td>0.000000</td>\n",
       "      <td>177.000000</td>\n",
       "      <td>181.000000</td>\n",
       "    </tr>\n",
       "    <tr>\n",
       "      <th>25%</th>\n",
       "      <td>225.000000</td>\n",
       "      <td>87.000000</td>\n",
       "      <td>40.000000</td>\n",
       "      <td>70.000000</td>\n",
       "      <td>142.000000</td>\n",
       "      <td>57.000000</td>\n",
       "      <td>6.000000</td>\n",
       "      <td>147.000000</td>\n",
       "      <td>34.000000</td>\n",
       "      <td>19.000000</td>\n",
       "      <td>136.000000</td>\n",
       "      <td>167.000000</td>\n",
       "      <td>319.000000</td>\n",
       "      <td>149.000000</td>\n",
       "      <td>67.000000</td>\n",
       "      <td>2.000000</td>\n",
       "      <td>5.000000</td>\n",
       "      <td>184.000000</td>\n",
       "      <td>190.000000</td>\n",
       "    </tr>\n",
       "    <tr>\n",
       "      <th>50%</th>\n",
       "      <td>431.000000</td>\n",
       "      <td>93.000000</td>\n",
       "      <td>44.000000</td>\n",
       "      <td>79.000000</td>\n",
       "      <td>169.000000</td>\n",
       "      <td>61.000000</td>\n",
       "      <td>8.000000</td>\n",
       "      <td>157.000000</td>\n",
       "      <td>43.000000</td>\n",
       "      <td>20.000000</td>\n",
       "      <td>146.000000</td>\n",
       "      <td>179.000000</td>\n",
       "      <td>367.000000</td>\n",
       "      <td>174.000000</td>\n",
       "      <td>71.000000</td>\n",
       "      <td>6.000000</td>\n",
       "      <td>11.000000</td>\n",
       "      <td>189.000000</td>\n",
       "      <td>197.000000</td>\n",
       "    </tr>\n",
       "    <tr>\n",
       "      <th>75%</th>\n",
       "      <td>644.000000</td>\n",
       "      <td>100.000000</td>\n",
       "      <td>49.000000</td>\n",
       "      <td>96.000000</td>\n",
       "      <td>195.000000</td>\n",
       "      <td>65.000000</td>\n",
       "      <td>10.000000</td>\n",
       "      <td>195.000000</td>\n",
       "      <td>46.000000</td>\n",
       "      <td>22.000000</td>\n",
       "      <td>159.000000</td>\n",
       "      <td>216.000000</td>\n",
       "      <td>575.000000</td>\n",
       "      <td>198.000000</td>\n",
       "      <td>75.000000</td>\n",
       "      <td>10.000000</td>\n",
       "      <td>19.000000</td>\n",
       "      <td>193.000000</td>\n",
       "      <td>201.000000</td>\n",
       "    </tr>\n",
       "    <tr>\n",
       "      <th>max</th>\n",
       "      <td>845.000000</td>\n",
       "      <td>119.000000</td>\n",
       "      <td>59.000000</td>\n",
       "      <td>112.000000</td>\n",
       "      <td>322.000000</td>\n",
       "      <td>133.000000</td>\n",
       "      <td>52.000000</td>\n",
       "      <td>265.000000</td>\n",
       "      <td>61.000000</td>\n",
       "      <td>29.000000</td>\n",
       "      <td>186.000000</td>\n",
       "      <td>287.000000</td>\n",
       "      <td>1018.000000</td>\n",
       "      <td>268.000000</td>\n",
       "      <td>127.000000</td>\n",
       "      <td>22.000000</td>\n",
       "      <td>41.000000</td>\n",
       "      <td>206.000000</td>\n",
       "      <td>211.000000</td>\n",
       "    </tr>\n",
       "  </tbody>\n",
       "</table>\n",
       "</div>"
      ],
      "text/plain": [
       "               0           1           2           3           4           5   \\\n",
       "count  549.000000  549.000000  549.000000  549.000000  549.000000  549.000000   \n",
       "mean   432.114754   93.839709   44.765027   81.872495  169.358834   61.817851   \n",
       "std    240.666501    8.335779    6.190806   15.647408   32.834864    7.971412   \n",
       "min      0.000000   77.000000   33.000000   40.000000  104.000000   47.000000   \n",
       "25%    225.000000   87.000000   40.000000   70.000000  142.000000   57.000000   \n",
       "50%    431.000000   93.000000   44.000000   79.000000  169.000000   61.000000   \n",
       "75%    644.000000  100.000000   49.000000   96.000000  195.000000   65.000000   \n",
       "max    845.000000  119.000000   59.000000  112.000000  322.000000  133.000000   \n",
       "\n",
       "               6           7           8           9           10          11  \\\n",
       "count  549.000000  549.000000  549.000000  549.000000  549.000000  549.000000   \n",
       "mean     8.433515  168.934426   40.865209   20.588342  147.571949  188.744991   \n",
       "std      4.491440   33.163102    7.790602    2.588917   14.451808   31.241299   \n",
       "min      3.000000  112.000000   26.000000   17.000000  118.000000  130.000000   \n",
       "25%      6.000000  147.000000   34.000000   19.000000  136.000000  167.000000   \n",
       "50%      8.000000  157.000000   43.000000   20.000000  146.000000  179.000000   \n",
       "75%     10.000000  195.000000   46.000000   22.000000  159.000000  216.000000   \n",
       "max     52.000000  265.000000   61.000000   29.000000  186.000000  287.000000   \n",
       "\n",
       "                12          13          14          15          16  \\\n",
       "count   549.000000  549.000000  549.000000  549.000000  549.000000   \n",
       "mean    440.672131  174.539162   72.449909    6.557377   12.568306   \n",
       "std     176.701194   32.845869    7.308114    5.006099    9.010809   \n",
       "min     184.000000  109.000000   60.000000    0.000000    0.000000   \n",
       "25%     319.000000  149.000000   67.000000    2.000000    5.000000   \n",
       "50%     367.000000  174.000000   71.000000    6.000000   11.000000   \n",
       "75%     575.000000  198.000000   75.000000   10.000000   19.000000   \n",
       "max    1018.000000  268.000000  127.000000   22.000000   41.000000   \n",
       "\n",
       "               17          18  \n",
       "count  549.000000  549.000000  \n",
       "mean   189.030965  195.491803  \n",
       "std      6.200788    7.435024  \n",
       "min    177.000000  181.000000  \n",
       "25%    184.000000  190.000000  \n",
       "50%    189.000000  197.000000  \n",
       "75%    193.000000  201.000000  \n",
       "max    206.000000  211.000000  "
      ]
     },
     "execution_count": 4,
     "metadata": {},
     "output_type": "execute_result"
    }
   ],
   "source": [
    "X_train_pd.describe()"
   ]
  },
  {
   "cell_type": "code",
   "execution_count": 5,
   "metadata": {},
   "outputs": [
    {
     "name": "stdout",
     "output_type": "stream",
     "text": [
      "<class 'pandas.core.frame.DataFrame'>\n",
      "RangeIndex: 549 entries, 0 to 548\n",
      "Data columns (total 19 columns):\n",
      " #   Column  Non-Null Count  Dtype\n",
      "---  ------  --------------  -----\n",
      " 0   0       549 non-null    int64\n",
      " 1   1       549 non-null    int64\n",
      " 2   2       549 non-null    int64\n",
      " 3   3       549 non-null    int64\n",
      " 4   4       549 non-null    int64\n",
      " 5   5       549 non-null    int64\n",
      " 6   6       549 non-null    int64\n",
      " 7   7       549 non-null    int64\n",
      " 8   8       549 non-null    int64\n",
      " 9   9       549 non-null    int64\n",
      " 10  10      549 non-null    int64\n",
      " 11  11      549 non-null    int64\n",
      " 12  12      549 non-null    int64\n",
      " 13  13      549 non-null    int64\n",
      " 14  14      549 non-null    int64\n",
      " 15  15      549 non-null    int64\n",
      " 16  16      549 non-null    int64\n",
      " 17  17      549 non-null    int64\n",
      " 18  18      549 non-null    int64\n",
      "dtypes: int64(19)\n",
      "memory usage: 81.6 KB\n"
     ]
    }
   ],
   "source": [
    "X_train_pd.info()"
   ]
  },
  {
   "cell_type": "markdown",
   "metadata": {
    "nbgrader": {
     "grade": false,
     "grade_id": "cell-be844269be69c387",
     "locked": true,
     "schema_version": 2,
     "solution": false
    }
   },
   "source": [
    "### 2. Machine Learning pipeline\n",
    "Here you are supposed to perform the desired transformations. Please, explain your results briefly after each task."
   ]
  },
  {
   "cell_type": "markdown",
   "metadata": {},
   "source": [
    "#### 2.0. Data preprocessing\n",
    "* Make some transformations of the dataset (if necessary). Briefly explain the transformations"
   ]
  },
  {
   "cell_type": "code",
   "execution_count": null,
   "metadata": {
    "nbgrader": {
     "grade": true,
     "grade_id": "cell-a1514aa189a49fca",
     "locked": false,
     "points": 15,
     "schema_version": 2,
     "solution": true
    }
   },
   "outputs": [],
   "source": [
    "### YOUR CODE HERE"
   ]
  },
  {
   "cell_type": "markdown",
   "metadata": {},
   "source": [
    "#### 2.1. Basic logistic regression\n",
    "* Find optimal hyperparameters for logistic regression with cross-validation on the `train` data (small grid/random search is enough, no need to find the *best* parameters).\n",
    "\n",
    "* Estimate the model quality with `f1` and `accuracy` scores.\n",
    "* Plot a ROC-curve for the trained model. For the multiclass case you might use `scikitplot` library (e.g. `scikitplot.metrics.plot_roc(test_labels, predicted_proba)`).\n",
    "\n",
    "*Note: please, use the following hyperparameters for logistic regression: `multi_class='multinomial'`, `solver='saga'` `tol=1e-3` and ` max_iter=500`.*"
   ]
  },
  {
   "cell_type": "code",
   "execution_count": null,
   "metadata": {
    "nbgrader": {
     "grade": true,
     "grade_id": "cell-1dd5ad5d0845cbbb",
     "locked": false,
     "points": 5,
     "schema_version": 2,
     "solution": true
    }
   },
   "outputs": [],
   "source": [
    "### YOUR CODE HERE"
   ]
  },
  {
   "cell_type": "code",
   "execution_count": null,
   "metadata": {},
   "outputs": [],
   "source": [
    "# You might use this command to install scikit-plot. \n",
    "# Warning, if you a running locally, don't call pip from within jupyter, call it from terminal in the corresponding \n",
    "# virtual environment instead\n",
    "\n",
    "# ! pip install scikit-plot"
   ]
  },
  {
   "cell_type": "markdown",
   "metadata": {},
   "source": [
    "#### 2.2. PCA: explained variance plot\n",
    "* Apply the PCA to the train part of the data. Build the explaided variance plot. "
   ]
  },
  {
   "cell_type": "code",
   "execution_count": null,
   "metadata": {
    "nbgrader": {
     "grade": true,
     "grade_id": "cell-c6c614740bce090e",
     "locked": false,
     "points": 10,
     "schema_version": 2,
     "solution": true
    }
   },
   "outputs": [],
   "source": [
    "### YOUR CODE HERE"
   ]
  },
  {
   "cell_type": "markdown",
   "metadata": {
    "nbgrader": {
     "grade": false,
     "grade_id": "cell-0c1fe666f52fe53c",
     "locked": true,
     "schema_version": 2,
     "solution": false
    }
   },
   "source": [
    "#### 2.3. PCA trasformation\n",
    "* Select the appropriate number of components. Briefly explain your choice. Should you normalize the data?\n",
    "\n",
    "*Use `fit` and `transform` methods to transform the `train` and `test` parts.*"
   ]
  },
  {
   "cell_type": "code",
   "execution_count": null,
   "metadata": {
    "nbgrader": {
     "grade": true,
     "grade_id": "cell-96ab18d96473ef71",
     "locked": false,
     "points": 5,
     "schema_version": 2,
     "solution": true
    }
   },
   "outputs": [],
   "source": [
    "### YOUR CODE HERE"
   ]
  },
  {
   "cell_type": "markdown",
   "metadata": {},
   "source": [
    "**Note: From this point `sklearn` [Pipeline](https://scikit-learn.org/stable/modules/compose.html) might be useful to perform transformations on the data. Refer to the [docs](https://scikit-learn.org/stable/modules/generated/sklearn.pipeline.Pipeline.html) for more information.**"
   ]
  },
  {
   "cell_type": "markdown",
   "metadata": {
    "nbgrader": {
     "grade": false,
     "grade_id": "cell-d28b58a35c94e988",
     "locked": true,
     "schema_version": 2,
     "solution": false
    }
   },
   "source": [
    "#### 2.4. Logistic regression on PCA-preprocessed data.\n",
    "* Find optimal hyperparameters for logistic regression with cross-validation on the transformed by PCA `train` data.\n",
    "\n",
    "* Estimate the model quality with `f1` and `accuracy` scores.\n",
    "* Plot a ROC-curve for the trained model. For the multiclass case you might use `scikitplot` library (e.g. `scikitplot.metrics.plot_roc(test_labels, predicted_proba)`).\n",
    "\n",
    "*Note: please, use the following hyperparameters for logistic regression: `multi_class='multinomial'`, `solver='saga'` and `tol=1e-3`*"
   ]
  },
  {
   "cell_type": "code",
   "execution_count": null,
   "metadata": {
    "nbgrader": {
     "grade": true,
     "grade_id": "cell-12d53ea45258fa82",
     "locked": false,
     "points": 5,
     "schema_version": 2,
     "solution": true
    }
   },
   "outputs": [],
   "source": [
    "### YOUR CODE HERE"
   ]
  },
  {
   "cell_type": "markdown",
   "metadata": {
    "nbgrader": {
     "grade": false,
     "grade_id": "cell-4fbf16c64076e139",
     "locked": true,
     "schema_version": 2,
     "solution": false
    }
   },
   "source": [
    "#### 2.5. Decision tree\n",
    "* Now train a desicion tree on the same data. Find optimal tree depth (`max_depth`) using cross-validation.\n",
    "\n",
    "* Measure the model quality using the same metrics you used above."
   ]
  },
  {
   "cell_type": "code",
   "execution_count": null,
   "metadata": {
    "nbgrader": {
     "grade": true,
     "grade_id": "cell-748ed20b51c67fab",
     "locked": false,
     "points": 15,
     "schema_version": 2,
     "solution": true
    }
   },
   "outputs": [],
   "source": [
    "from sklearn.tree import DecisionTreeClassifier\n",
    "\n",
    "# YOUR CODE HERE"
   ]
  },
  {
   "cell_type": "markdown",
   "metadata": {
    "nbgrader": {
     "grade": false,
     "grade_id": "cell-9eadd4d8a03ae67a",
     "locked": true,
     "schema_version": 2,
     "solution": false
    }
   },
   "source": [
    "#### 2.6. Bagging.\n",
    "Here starts the ensembling part.\n",
    "\n",
    "First we will use the __Bagging__ approach. Build an ensemble of $N$ algorithms varying N from $N_{min}=2$ to $N_{max}=100$ (with step 5).\n",
    "\n",
    "We will build two ensembles: of logistic regressions and of decision trees.\n",
    "\n",
    "*Comment: each ensemble should be constructed from models of the same family, so logistic regressions should not be mixed up with decision trees.*\n",
    "\n",
    "\n",
    "*Hint 1: To build a __Bagging__ ensebmle varying the ensemble size efficiently you might generate $N_{max}$ subsets of `train` data (of the same size as the original dataset) using bootstrap procedure once. Then you train a new instance of logistic regression/decision tree with optimal hyperparameters you estimated before on each subset (so you train it from scratch). Finally, to get an ensemble of $N$ models you average the $N$ out of $N_{max}$ models predictions.*\n",
    "\n",
    "*Hint 2: sklearn might help you with this taks. Some appropriate function/class might be out there.*\n",
    "\n",
    "* Plot `f1` and `accuracy` scores plots w.r.t. the size of the ensemble.\n",
    "\n",
    "* Briefly analyse the plot. What is the optimal number of algorithms? Explain your answer.\n",
    "\n",
    "* How do you think, are the hyperparameters for the decision trees you found in 2.5 optimal for trees used in ensemble? "
   ]
  },
  {
   "cell_type": "code",
   "execution_count": null,
   "metadata": {
    "nbgrader": {
     "grade": true,
     "grade_id": "cell-8fc95a2b206bdae1",
     "locked": false,
     "points": 35,
     "schema_version": 2,
     "solution": true
    }
   },
   "outputs": [],
   "source": [
    "# YOUR CODE HERE"
   ]
  },
  {
   "cell_type": "code",
   "execution_count": null,
   "metadata": {},
   "outputs": [],
   "source": []
  },
  {
   "cell_type": "markdown",
   "metadata": {
    "nbgrader": {
     "grade": false,
     "grade_id": "cell-241b7691ab44cbfb",
     "locked": true,
     "schema_version": 2,
     "solution": false
    }
   },
   "source": [
    "#### 2.7. Random Forest\n",
    "Now we will work with the Random Forest (its `sklearn` implementation).\n",
    "\n",
    "* * Plot `f1` and `accuracy` scores plots w.r.t. the number of trees in Random Forest.\n",
    "\n",
    "* What is the optimal number of trees you've got? Is it different from the optimal number of logistic regressions/decision trees in 2.6? Explain the results briefly."
   ]
  },
  {
   "cell_type": "code",
   "execution_count": null,
   "metadata": {
    "nbgrader": {
     "grade": true,
     "grade_id": "cell-888755d0f3d91620",
     "locked": false,
     "points": 15,
     "schema_version": 2,
     "solution": true
    }
   },
   "outputs": [],
   "source": [
    "from sklearn.ensemble import RandomForestClassifier\n",
    "\n",
    "# YOUR CODE HERE"
   ]
  },
  {
   "cell_type": "markdown",
   "metadata": {
    "nbgrader": {
     "grade": false,
     "grade_id": "cell-99191c0852538d4d",
     "locked": true,
     "schema_version": 2,
     "solution": false
    }
   },
   "source": [
    "#### 2.8. Learning curve\n",
    "Your goal is to estimate, how does the model behaviour change with the increase of the `train` dataset size.\n",
    "\n",
    "* Split the training data into 10 equal (almost) parts. Then train the models from above (Logistic regression, Desicion Tree, Random Forest) with optimal hyperparameters you have selected on 1 part, 2 parts (combined, so the train size in increased by 2 times), 3 parts and so on.\n",
    "\n",
    "* Build a plot of `accuracy` and `f1` scores on `test` part, varying the `train` dataset size (so the axes will be score - dataset size.\n",
    "\n",
    "* Analyse the final plot. Can you make any conlusions using it? "
   ]
  },
  {
   "cell_type": "code",
   "execution_count": null,
   "metadata": {
    "nbgrader": {
     "grade": true,
     "grade_id": "cell-e39bc7e7dff61ff9",
     "locked": false,
     "points": 15,
     "schema_version": 2,
     "solution": true
    }
   },
   "outputs": [],
   "source": [
    "# YOUR CODE HERE"
   ]
  }
 ],
 "metadata": {
  "celltoolbar": "Create Assignment",
  "kernelspec": {
   "display_name": "Py3 Research",
   "language": "python",
   "name": "py3_research_kernel"
  },
  "language_info": {
   "codemirror_mode": {
    "name": "ipython",
    "version": 3
   },
   "file_extension": ".py",
   "mimetype": "text/x-python",
   "name": "python",
   "nbconvert_exporter": "python",
   "pygments_lexer": "ipython3",
   "version": "3.9.7"
  },
  "toc": {
   "base_numbering": 1,
   "nav_menu": {},
   "number_sections": false,
   "sideBar": true,
   "skip_h1_title": false,
   "title_cell": "Table of Contents",
   "title_sidebar": "Contents",
   "toc_cell": false,
   "toc_position": {},
   "toc_section_display": true,
   "toc_window_display": false
  }
 },
 "nbformat": 4,
 "nbformat_minor": 4
}
