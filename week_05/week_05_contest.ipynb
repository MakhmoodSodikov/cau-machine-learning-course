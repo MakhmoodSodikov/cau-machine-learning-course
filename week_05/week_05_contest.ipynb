{
  "nbformat": 4,
  "nbformat_minor": 0,
  "metadata": {
    "colab": {
      "provenance": []
    },
    "kernelspec": {
      "name": "python3",
      "display_name": "Python 3"
    },
    "language_info": {
      "name": "python"
    }
  },
  "cells": [
    {
      "cell_type": "markdown",
      "source": [
        "# Breast Cancer Classification Challenge\n",
        "\n",
        "## Objective\n",
        "The objective of this contest is to build and evaluate machine learning models to classify breast cancer tumors as either malignant or benign using the sklearn.datasets.load_breast_cancer dataset.\n",
        "\n",
        "## Dataset\n",
        "Participants will be provided with the sklearn.datasets.load_breast_cancer dataset, which contains various features computed from a digitized image of a fine needle aspirate (FNA) of a breast mass. The dataset includes both benign and malignant tumor samples.\n",
        "\n",
        "## Contest Rules:\n",
        "\n",
        "**Data Splitting**: The provided dataset should be divided into training and testing sets (e.g., 70% for training and 30% for testing) to evaluate model performance.\n",
        "\n",
        "**Model Selection**: Participants can use any machine learning model available in scikit-learn (e.g., Logistic Regression, Decision Trees, Random Forest, Support Vector Machine, K-Nearest Neighbors, etc.) or even deep learning models if they are familiar with libraries like TensorFlow or PyTorch.\n",
        "\n",
        "**Preprocessing**: Participants are encouraged to perform data preprocessing, including handling missing values, scaling features, and encoding categorical variables if necessary.\n",
        "\n",
        "**Evaluation Metric**: The primary evaluation metric will be accuracy, but participants can also explore other metrics like precision, recall, F1-score, or ROC-AUC for a more comprehensive assessment.\n",
        "\n",
        "**Documentation**: Participants should provide documentation for their code, explaining the choice of model, hyperparameters, and any preprocessing steps. A well-organized and informative Jupyter Notebook or a report is recommended.\n",
        "\n",
        "Judging Criteria:\n",
        "\n",
        "**Model Accuracy**: The accuracy of the model in correctly classifying breast tumors as benign or malignant.\n",
        "\n",
        "**Code Quality**: The organization, readability, and efficiency of the code.\n",
        "\n",
        "**Creativity and Exploration**: Bonus points for participants who explore and experiment with different machine learning techniques or visualization methods beyond the basic requirements.\n",
        "\n",
        "Use Linear Classification, Linear Regression, KNN models. If you can (and want) you can try out Decision Trees as well.\n",
        "\n",
        "\n",
        "\n",
        "\n"
      ],
      "metadata": {
        "id": "v7ZmLMMDvwQI"
      }
    },
    {
      "cell_type": "markdown",
      "source": [
        "**More About the dataset:**\n",
        "\n",
        "https://archive.ics.uci.edu/dataset/17/breast+cancer+wisconsin+diagnostic\n",
        "\n",
        "https://scikit-learn.org/stable/modules/generated/sklearn.datasets.load_breast_cancer.html#sklearn.datasets.load_breast_cancer\n",
        "\n",
        "## **Imoprtant!** Take care about categorical features! Normalize your data (if needed)! Use polynomial features!"
      ],
      "metadata": {
        "id": "Xuei0xO0xJgA"
      }
    },
    {
      "cell_type": "code",
      "source": [
        "import pandas as pd\n",
        "import numpy as np\n",
        "import matplotlib.pyplot as plt\n",
        "from sklearn.metrics import accuracy_score"
      ],
      "metadata": {
        "id": "I1q_C0LExcwV"
      },
      "execution_count": null,
      "outputs": []
    },
    {
      "cell_type": "code",
      "execution_count": null,
      "metadata": {
        "colab": {
          "base_uri": "https://localhost:8080/"
        },
        "id": "k6v99nk_vTco",
        "outputId": "764c8580-396a-4434-cfce-ed52f672a918"
      },
      "outputs": [
        {
          "output_type": "execute_result",
          "data": {
            "text/plain": [
              "['malignant', 'benign']"
            ]
          },
          "metadata": {},
          "execution_count": 1
        }
      ],
      "source": [
        "from sklearn.datasets import load_breast_cancer\n",
        "data = load_breast_cancer()\n",
        "data.target[[10, 50, 85]]\n",
        "list(data.target_names)"
      ]
    },
    {
      "cell_type": "code",
      "source": [
        "# TODO: Work with data. Draw some plots, observe data, make assumptions about features, normalize"
      ],
      "metadata": {
        "id": "k1Vx4uG6vrIh"
      },
      "execution_count": null,
      "outputs": []
    },
    {
      "cell_type": "code",
      "source": [
        "from sklearn.model_selection import train_test_split\n",
        "\n",
        "# TODO: Write a train_test_split model - 70/30"
      ],
      "metadata": {
        "id": "JhZWnRokwz2O"
      },
      "execution_count": null,
      "outputs": []
    },
    {
      "cell_type": "markdown",
      "source": [
        "## Logistic Regression Model"
      ],
      "metadata": {
        "id": "zZ9i5eTWzd-2"
      }
    },
    {
      "cell_type": "code",
      "source": [
        "# TODO: Train Logistic regression"
      ],
      "metadata": {
        "id": "Rgz8Y5r9zdAT"
      },
      "execution_count": null,
      "outputs": []
    },
    {
      "cell_type": "code",
      "source": [
        "# TODO: Calculate accuracy"
      ],
      "metadata": {
        "id": "HD9_JEgdw_H1"
      },
      "execution_count": null,
      "outputs": []
    },
    {
      "cell_type": "markdown",
      "source": [
        "# kNN Model"
      ],
      "metadata": {
        "id": "IPlzvHAVzrmY"
      }
    },
    {
      "cell_type": "code",
      "source": [
        "# TODO: Train kNN"
      ],
      "metadata": {
        "id": "Ui69gYAiztlr"
      },
      "execution_count": null,
      "outputs": []
    },
    {
      "cell_type": "code",
      "source": [
        "# TODO: Calculate accuracy"
      ],
      "metadata": {
        "id": "M4m7bMYXzxoa"
      },
      "execution_count": null,
      "outputs": []
    }
  ]
}